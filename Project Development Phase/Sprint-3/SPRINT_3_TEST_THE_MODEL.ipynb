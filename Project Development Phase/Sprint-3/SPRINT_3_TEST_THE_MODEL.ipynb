{
  "cells": [
    {
      "cell_type": "markdown",
      "metadata": {
        "id": "1nlb8OPFQWv7"
      },
      "source": [
        "**Importing Image Data Library And Configuration**"
      ]
    },
    {
      "cell_type": "code",
      "execution_count": 1,
      "metadata": {
        "colab": {
          "base_uri": "https://localhost:8080/"
        },
        "id": "I2pDuWlFM-M2",
        "outputId": "b3e1a8e4-6a3c-46cf-9109-8a36254a1558"
      },
      "outputs": [
        {
          "output_type": "stream",
          "name": "stdout",
          "text": [
            "Mounted at /content/drive\n"
          ]
        }
      ],
      "source": [
        "from google.colab import drive\n",
        "drive.mount('/content/drive')"
      ]
    },
    {
      "cell_type": "code",
      "execution_count": 2,
      "metadata": {
        "colab": {
          "base_uri": "https://localhost:8080/"
        },
        "id": "VR2jSDQiOCsU",
        "outputId": "5bca4d14-e8e6-4439-edd3-d6a2871f8b4a"
      },
      "outputs": [
        {
          "output_type": "stream",
          "name": "stdout",
          "text": [
            "\u001b[0m\u001b[01;34mdrive\u001b[0m/  \u001b[01;34msample_data\u001b[0m/\n"
          ]
        }
      ],
      "source": [
        "ls"
      ]
    },
    {
      "cell_type": "code",
      "execution_count": 3,
      "metadata": {
        "id": "iSaL0aI3OEVY"
      },
      "outputs": [],
      "source": [
        "path = '/content/drive/MyDrive/Naalaiya Thiran/Dataset.zip'"
      ]
    },
    {
      "cell_type": "code",
      "execution_count": 4,
      "metadata": {
        "id": "2eUWuKy1OR87"
      },
      "outputs": [],
      "source": [
        "from keras.preprocessing.image import ImageDataGenerator\n",
        "train_datagen = ImageDataGenerator(rescale=1/255,zoom_range=0.2,horizontal_flip=True,vertical_flip=False)\n",
        "test_datagen = ImageDataGenerator(rescale=1/255)"
      ]
    },
    {
      "cell_type": "code",
      "execution_count": 5,
      "metadata": {
        "id": "ZwVS6C1fOYz-"
      },
      "outputs": [],
      "source": [
        "# Testing Datagen\n",
        "test_datagen = ImageDataGenerator(rescale=1/255)\n",
        "# Training Datagen\n",
        "train_datagen = ImageDataGenerator(rescale=1/255,zoom_range=0.2,horizontal_flip=True,vertical_flip=False)"
      ]
    },
    {
      "cell_type": "code",
      "execution_count": 6,
      "metadata": {
        "colab": {
          "base_uri": "https://localhost:8080/"
        },
        "id": "tC6zUE39Oewu",
        "outputId": "93f127be-0446-4caa-8cc0-a0b42612b5ce"
      },
      "outputs": [
        {
          "output_type": "stream",
          "name": "stdout",
          "text": [
            "/content/drive/MyDrive/Naalaiya Thiran\n"
          ]
        }
      ],
      "source": [
        "cd '/content/drive/MyDrive/Naalaiya Thiran'"
      ]
    },
    {
      "cell_type": "code",
      "execution_count": null,
      "metadata": {
        "colab": {
          "base_uri": "https://localhost:8080/"
        },
        "id": "KcvqWw40Oumn",
        "outputId": "84e5fe04-93fb-432d-aaa5-6d78cf4e7a62"
      },
      "outputs": [
        {
          "name": "stdout",
          "output_type": "stream",
          "text": [
            "unzip:  cannot find or open Dataset.zip, Dataset.zip.zip or Dataset.zip.ZIP.\n"
          ]
        }
      ],
      "source": [
        "!unzip Dataset.zip"
      ]
    },
    {
      "cell_type": "code",
      "execution_count": 7,
      "metadata": {
        "colab": {
          "base_uri": "https://localhost:8080/"
        },
        "id": "O1mTcl4LOko3",
        "outputId": "704683f7-fb15-4af0-f7c2-2d073ddbd898"
      },
      "outputs": [
        {
          "output_type": "stream",
          "name": "stdout",
          "text": [
            "Found 15750 images belonging to 9 classes.\n"
          ]
        }
      ],
      "source": [
        "x_train = train_datagen.flow_from_directory('/content/drive/MyDrive/Naalaiya Thiran/Dataset/training_set',target_size=(64,64),batch_size=300,class_mode='categorical',color_mode='grayscale')"
      ]
    },
    {
      "cell_type": "code",
      "execution_count": 8,
      "metadata": {
        "colab": {
          "base_uri": "https://localhost:8080/"
        },
        "id": "AdUqX3PVP3Rj",
        "outputId": "ea53b465-34ed-4e0d-aa63-522efdf6522c"
      },
      "outputs": [
        {
          "output_type": "stream",
          "name": "stdout",
          "text": [
            "Found 2250 images belonging to 9 classes.\n"
          ]
        }
      ],
      "source": [
        "x_test = test_datagen.flow_from_directory('/content/drive/MyDrive/Naalaiya Thiran/Dataset/test_set',target_size=(64,64),batch_size=300,class_mode='categorical',color_mode='grayscale')"
      ]
    },
    {
      "cell_type": "code",
      "execution_count": 9,
      "metadata": {
        "colab": {
          "base_uri": "https://localhost:8080/"
        },
        "id": "2qnZW6sKP9Kv",
        "outputId": "e15b1a78-2426-4c44-d1d9-3d1b99e57cc7"
      },
      "outputs": [
        {
          "output_type": "stream",
          "name": "stdout",
          "text": [
            "Len x-train :  53\n",
            "Len x-test :  8\n"
          ]
        }
      ],
      "source": [
        "print(\"Len x-train : \",len(x_train))\n",
        "print(\"Len x-test : \", len(x_test))"
      ]
    },
    {
      "cell_type": "code",
      "execution_count": 10,
      "metadata": {
        "colab": {
          "base_uri": "https://localhost:8080/"
        },
        "id": "ehcOp9ISQC_L",
        "outputId": "5962deb3-0ad6-4a16-f524-0319d4033f91"
      },
      "outputs": [
        {
          "output_type": "execute_result",
          "data": {
            "text/plain": [
              "{'A': 0, 'B': 1, 'C': 2, 'D': 3, 'E': 4, 'F': 5, 'G': 6, 'H': 7, 'I': 8}"
            ]
          },
          "metadata": {},
          "execution_count": 10
        }
      ],
      "source": [
        "x_train.class_indices"
      ]
    },
    {
      "cell_type": "markdown",
      "metadata": {
        "id": "MjJEFQQ8Q_uU"
      },
      "source": [
        "**IMAGE PREPROCESSING**"
      ]
    },
    {
      "cell_type": "markdown",
      "metadata": {
        "id": "9bMdRloYRVYE"
      },
      "source": [
        "**Import ImageDataGenerator Library And Configure It**"
      ]
    },
    {
      "cell_type": "code",
      "execution_count": 11,
      "metadata": {
        "id": "PIPrsGl2RcOt"
      },
      "outputs": [],
      "source": [
        "from tensorflow.keras.preprocessing.image import ImageDataGenerator"
      ]
    },
    {
      "cell_type": "code",
      "execution_count": 12,
      "metadata": {
        "id": "1FdWx2YwRjIU"
      },
      "outputs": [],
      "source": [
        "# Training Datagen\n",
        "train_datagen = ImageDataGenerator(rescale=1/255,zoom_range=0.2,horizontal_flip=True,vertical_flip=False)\n",
        "# Testing Datagen\n",
        "test_datagen = ImageDataGenerator(rescale=1/255)"
      ]
    },
    {
      "cell_type": "code",
      "execution_count": 13,
      "metadata": {
        "id": "Dp6LC6uPRpTQ"
      },
      "outputs": [],
      "source": [
        "import tensorflow as tf\n",
        "import os\n",
        "from tensorflow.keras.models import Sequential\n",
        "from tensorflow.keras.layers import Dense, Conv2D, Flatten, Dropout, MaxPooling2D\n",
        "from tensorflow.keras.preprocessing.image import ImageDataGenerator\n",
        "import numpy as np\n",
        "import matplotlib.pyplot as plt\n",
        "import IPython.display as display\n",
        "from PIL import Image\n",
        "import pathlib"
      ]
    },
    {
      "cell_type": "markdown",
      "metadata": {
        "id": "DFvv1WfsSjGA"
      },
      "source": [
        "# **MODEL BUILDING**"
      ]
    },
    {
      "cell_type": "markdown",
      "metadata": {
        "id": "e243iP18Sx2_"
      },
      "source": [
        "Adding The Convolution Layer"
      ]
    },
    {
      "cell_type": "code",
      "execution_count": 14,
      "metadata": {
        "id": "fpttMjx_R_kf"
      },
      "outputs": [],
      "source": [
        "import numpy as np\n",
        "import matplotlib.pyplot as plt"
      ]
    },
    {
      "cell_type": "code",
      "execution_count": 15,
      "metadata": {
        "id": "9Y1B0Ed5TAIr"
      },
      "outputs": [],
      "source": [
        "from tensorflow.keras.preprocessing.image import ImageDataGenerator"
      ]
    },
    {
      "cell_type": "code",
      "execution_count": 16,
      "metadata": {
        "id": "v9oRApY0TD_d"
      },
      "outputs": [],
      "source": [
        "# Training Datagen\n",
        "train_datagen = ImageDataGenerator(rescale=1/255,zoom_range=0.2,horizontal_flip=True,vertical_flip=False)\n",
        "# Testing Datagen\n",
        "test_datagen = ImageDataGenerator(rescale=1/255)"
      ]
    },
    {
      "cell_type": "code",
      "execution_count": 17,
      "metadata": {
        "colab": {
          "base_uri": "https://localhost:8080/"
        },
        "id": "Pe1ghbhHTH-Z",
        "outputId": "1906a030-3ee9-4c7a-b913-7c03e18af504"
      },
      "outputs": [
        {
          "output_type": "stream",
          "name": "stdout",
          "text": [
            "Found 15750 images belonging to 9 classes.\n",
            "Found 2250 images belonging to 9 classes.\n"
          ]
        }
      ],
      "source": [
        "# Training Dataset\n",
        "x_train=train_datagen.flow_from_directory(r'/content/drive/MyDrive/Naalaiya Thiran/Dataset/training_set',target_size=(64,64), class_mode='categorical',batch_size=900)\n",
        "# Testing Dataset\n",
        "x_test=test_datagen.flow_from_directory(r'/content/drive/MyDrive/Naalaiya Thiran/Dataset/test_set',target_size=(64,64), class_mode='categorical',batch_size=900)"
      ]
    },
    {
      "cell_type": "code",
      "execution_count": 18,
      "metadata": {
        "colab": {
          "base_uri": "https://localhost:8080/"
        },
        "id": "FbyFlyYnTjKI",
        "outputId": "661decaf-fed6-45cc-fb03-e7eb2fc6c249"
      },
      "outputs": [
        {
          "output_type": "stream",
          "name": "stdout",
          "text": [
            "[[ 2  2]\n",
            " [-2 -2]] is a kernel for detecting horizontal edges\n",
            "[[ 2 -2]\n",
            " [ 2 -2]] is a kernel for detecting vertical edges\n"
          ]
        }
      ],
      "source": [
        "# let img1 be an image with no features\n",
        "img1 = np.array([np.array([200, 200]), np.array([200, 200])])\n",
        "img2 = np.array([np.array([200, 200]), np.array([0, 0])])\n",
        "img3 = np.array([np.array([200, 0]), np.array([200, 0])])\n",
        "  \n",
        "kernel_horizontal = np.array([np.array([2, 2]), np.array([-2, -2])])\n",
        "print(kernel_horizontal, 'is a kernel for detecting horizontal edges')\n",
        "  \n",
        "kernel_vertical = np.array([np.array([2, -2]), np.array([2, -2])])\n",
        "print(kernel_vertical, 'is a kernel for detecting vertical edges')"
      ]
    },
    {
      "cell_type": "code",
      "execution_count": 19,
      "metadata": {
        "colab": {
          "base_uri": "https://localhost:8080/",
          "height": 299
        },
        "id": "tbiVBolxTnx1",
        "outputId": "67558a31-debb-40e5-b65d-9f18502b160e"
      },
      "outputs": [
        {
          "output_type": "display_data",
          "data": {
            "text/plain": [
              "<Figure size 432x288 with 1 Axes>"
            ],
            "image/png": "[encoded data removed]"
          },
          "metadata": {
            "needs_background": "light"
          }
        },
        {
          "output_type": "stream",
          "name": "stdout",
          "text": [
            "Horizontal edge confidence score: 0\n",
            "Vertical edge confidence score: 0\n"
          ]
        }
      ],
      "source": [
        "# We will apply the kernels on the images by\n",
        "# elementwise multiplication followed by summation\n",
        "def apply_kernel(img, kernel):\n",
        "    return np.sum(np.multiply(img, kernel))\n",
        "  \n",
        "# Visualizing img1\n",
        "plt.imshow(img1)\n",
        "plt.axis('off')\n",
        "plt.title('img1')\n",
        "plt.show()\n",
        "\n",
        "# Checking for horizontal and vertical features in image1\n",
        "print('Horizontal edge confidence score:', apply_kernel(img1, \n",
        "                                            kernel_horizontal))\n",
        "print('Vertical edge confidence score:', apply_kernel(img1, \n",
        "                                            kernel_vertical))"
      ]
    },
    {
      "cell_type": "code",
      "execution_count": 20,
      "metadata": {
        "colab": {
          "base_uri": "https://localhost:8080/",
          "height": 299
        },
        "id": "2e-_OsucTs2m",
        "outputId": "72ba0a87-9ee6-436c-d8d3-8dbe3bce1cb4"
      },
      "outputs": [
        {
          "output_type": "display_data",
          "data": {
            "text/plain": [
              "<Figure size 432x288 with 1 Axes>"
            ],
            "image/png": "[encoded data removed]"
          },
          "metadata": {
            "needs_background": "light"
          }
        },
        {
          "output_type": "stream",
          "name": "stdout",
          "text": [
            "Horizontal edge confidence score: 800\n",
            "Vertical edge confidence score: 0\n"
          ]
        }
      ],
      "source": [
        "# Visualizing img2\n",
        "plt.imshow(img2)\n",
        "plt.axis('off')\n",
        "plt.title('img2')\n",
        "plt.show()\n",
        "\n",
        "# Checking for horizontal and vertical features in image2\n",
        "print('Horizontal edge confidence score:', apply_kernel(img2, \n",
        "                                            kernel_horizontal))\n",
        "print('Vertical edge confidence score:', apply_kernel(img2, \n",
        "                                            kernel_vertical))"
      ]
    },
    {
      "cell_type": "code",
      "execution_count": 21,
      "metadata": {
        "colab": {
          "base_uri": "https://localhost:8080/",
          "height": 299
        },
        "id": "6tE1gX7iTxRk",
        "outputId": "458d8147-ac1e-43fd-88c7-51fea6ea0b14"
      },
      "outputs": [
        {
          "output_type": "display_data",
          "data": {
            "text/plain": [
              "<Figure size 432x288 with 1 Axes>"
            ],
            "image/png": "[encoded data removed]"
          },
          "metadata": {
            "needs_background": "light"
          }
        },
        {
          "output_type": "stream",
          "name": "stdout",
          "text": [
            "Horizontal edge confidence score: 0\n",
            "Vertical edge confidence score: 800\n"
          ]
        }
      ],
      "source": [
        "# Visualizing img3\n",
        "plt.imshow(img3)\n",
        "plt.axis('off')\n",
        "plt.title('img3')\n",
        "plt.show()\n",
        "  \n",
        "# Checking for horizontal and vertical features in image3\n",
        "print('Horizontal edge confidence score:', apply_kernel(img3, \n",
        "                                            kernel_horizontal))\n",
        "print('Vertical edge confidence score:', apply_kernel(img3, \n",
        "                                            kernel_vertical))"
      ]
    },
    {
      "cell_type": "code",
      "execution_count": 22,
      "metadata": {
        "colab": {
          "base_uri": "https://localhost:8080/"
        },
        "id": "mI9ZgoB8T0DN",
        "outputId": "2fbcaed3-8762-4bd3-ae16-83f176e2e539"
      },
      "outputs": [
        {
          "output_type": "stream",
          "name": "stdout",
          "text": [
            "Len x-train :  18\n",
            "Len x-test :  3\n"
          ]
        }
      ],
      "source": [
        "print(\"Len x-train : \", len(x_train))\n",
        "print(\"Len x-test : \", len(x_test))"
      ]
    },
    {
      "cell_type": "code",
      "execution_count": 23,
      "metadata": {
        "colab": {
          "base_uri": "https://localhost:8080/"
        },
        "id": "RlrdLtC9UPvj",
        "outputId": "cf735e9e-ecec-4cf6-b441-96edc6b17c9f"
      },
      "outputs": [
        {
          "output_type": "execute_result",
          "data": {
            "text/plain": [
              "{'A': 0, 'B': 1, 'C': 2, 'D': 3, 'E': 4, 'F': 5, 'G': 6, 'H': 7, 'I': 8}"
            ]
          },
          "metadata": {},
          "execution_count": 23
        }
      ],
      "source": [
        "# The Class Indices in Training Dataset\n",
        "x_train.class_indices"
      ]
    },
    {
      "cell_type": "markdown",
      "metadata": {
        "id": "Lq_zvcawWFii"
      },
      "source": [
        "**MODEL CREATION**"
      ]
    },
    {
      "cell_type": "code",
      "execution_count": 24,
      "metadata": {
        "id": "2pA5D21cWJJ9"
      },
      "outputs": [],
      "source": [
        "# Importing Libraries\n",
        "from tensorflow.keras.models import Sequential\n",
        "from tensorflow.keras.layers import Convolution2D,MaxPooling2D,Flatten,Dense"
      ]
    },
    {
      "cell_type": "code",
      "execution_count": 25,
      "metadata": {
        "id": "72lyoK57WKYz"
      },
      "outputs": [],
      "source": [
        "# Creating Model\n",
        "model=Sequential()"
      ]
    },
    {
      "cell_type": "code",
      "execution_count": 26,
      "metadata": {
        "id": "uerCzqG-WOrv"
      },
      "outputs": [],
      "source": [
        "# Adding Layers\n",
        "model.add(Convolution2D(32,(3,3),activation='relu',input_shape=(64,64,3)))"
      ]
    },
    {
      "cell_type": "code",
      "execution_count": 27,
      "metadata": {
        "id": "JBzz_RHCWRXw"
      },
      "outputs": [],
      "source": [
        "model.add(MaxPooling2D(pool_size=(2,2)))"
      ]
    },
    {
      "cell_type": "code",
      "execution_count": 28,
      "metadata": {
        "id": "Ikbauxz1WTzt"
      },
      "outputs": [],
      "source": [
        "model.add(Flatten())"
      ]
    },
    {
      "cell_type": "code",
      "execution_count": 29,
      "metadata": {
        "id": "2rWR4ATyWWQs"
      },
      "outputs": [],
      "source": [
        "# Adding Dense Layers\n",
        "model.add(Dense(300,activation='relu'))\n",
        "model.add(Dense(150,activation='relu'))\n",
        "model.add(Dense(9,activation='softmax'))"
      ]
    },
    {
      "cell_type": "code",
      "execution_count": 30,
      "metadata": {
        "id": "3pnkhr7SZif1"
      },
      "outputs": [],
      "source": [
        "# Compiling the Model\n",
        "model.compile(loss='categorical_crossentropy',optimizer='adam',metrics=['accuracy'])"
      ]
    },
    {
      "cell_type": "code",
      "execution_count": 33,
      "metadata": {
        "colab": {
          "base_uri": "https://localhost:8080/"
        },
        "id": "miCHC37DcKMS",
        "outputId": "dcd5f4bc-e8dc-4afa-88a8-4c1faed97036"
      },
      "outputs": [
        {
          "output_type": "stream",
          "name": "stderr",
          "text": [
            "/usr/local/lib/python3.7/dist-packages/ipykernel_launcher.py:2: UserWarning: `Model.fit_generator` is deprecated and will be removed in a future version. Please use `Model.fit`, which supports generators.\n",
            "  \n"
          ]
        },
        {
          "output_type": "stream",
          "name": "stdout",
          "text": [
            "Epoch 1/10\n",
            "18/18 [==============================] - 97s 5s/step - loss: 0.0055 - accuracy: 0.9991 - val_loss: 0.2245 - val_accuracy: 0.9760\n",
            "Epoch 2/10\n",
            "18/18 [==============================] - 86s 5s/step - loss: 0.0044 - accuracy: 0.9994 - val_loss: 0.2355 - val_accuracy: 0.9760\n",
            "Epoch 3/10\n",
            "18/18 [==============================] - 85s 5s/step - loss: 0.0032 - accuracy: 0.9996 - val_loss: 0.2541 - val_accuracy: 0.9756\n",
            "Epoch 4/10\n",
            "18/18 [==============================] - 88s 5s/step - loss: 0.0034 - accuracy: 0.9997 - val_loss: 0.2707 - val_accuracy: 0.9760\n",
            "Epoch 5/10\n",
            "18/18 [==============================] - 86s 5s/step - loss: 0.0030 - accuracy: 0.9997 - val_loss: 0.2608 - val_accuracy: 0.9760\n",
            "Epoch 6/10\n",
            "18/18 [==============================] - 85s 5s/step - loss: 0.0031 - accuracy: 0.9994 - val_loss: 0.2538 - val_accuracy: 0.9760\n",
            "Epoch 7/10\n",
            "18/18 [==============================] - 84s 5s/step - loss: 0.0028 - accuracy: 0.9993 - val_loss: 0.2577 - val_accuracy: 0.9760\n",
            "Epoch 8/10\n",
            "18/18 [==============================] - 86s 5s/step - loss: 0.0026 - accuracy: 0.9997 - val_loss: 0.2712 - val_accuracy: 0.9760\n",
            "Epoch 9/10\n",
            "18/18 [==============================] - 83s 4s/step - loss: 0.0022 - accuracy: 0.9996 - val_loss: 0.2839 - val_accuracy: 0.9778\n",
            "Epoch 10/10\n",
            "18/18 [==============================] - 83s 5s/step - loss: 0.0014 - accuracy: 0.9999 - val_loss: 0.2773 - val_accuracy: 0.9760\n"
          ]
        },
        {
          "output_type": "execute_result",
          "data": {
            "text/plain": [
              "<keras.callbacks.History at 0x7f6ff9335350>"
            ]
          },
          "metadata": {},
          "execution_count": 33
        }
      ],
      "source": [
        "# Fitting the Model Generator\n",
        "model.fit_generator(x_train,steps_per_epoch=len(x_train),epochs=10,validation_data=x_test,validation_steps=len(x_test))"
      ]
    },
    {
      "cell_type": "markdown",
      "metadata": {
        "id": "SGeV5BIdcyay"
      },
      "source": [
        "**Import The Packages And Load The Saved Model**"
      ]
    },
    {
      "cell_type": "code",
      "source": [
        "model.save('realtimecomm.h5')"
      ],
      "metadata": {
        "id": "qVOamqhc2fmp"
      },
      "execution_count": 34,
      "outputs": []
    },
    {
      "cell_type": "code",
      "execution_count": 35,
      "metadata": {
        "id": "bjFtpEGfc1VP"
      },
      "outputs": [],
      "source": [
        "from tensorflow.keras.models import load_model\n",
        "import numpy as np\n",
        "import cv2\n",
        "from tensorflow.keras.preprocessing import image"
      ]
    },
    {
      "cell_type": "code",
      "execution_count": 36,
      "metadata": {
        "id": "l6gIVUDNc_Ue"
      },
      "outputs": [],
      "source": [
        "#load the model\n",
        "model=load_model('realtimecomm.h5')"
      ]
    },
    {
      "cell_type": "code",
      "execution_count": 37,
      "metadata": {
        "id": "U96uqq44kh0V",
        "colab": {
          "base_uri": "https://localhost:8080/",
          "height": 417
        },
        "outputId": "b508d265-58ed-4136-e254-fd4dcbbdb1bd"
      },
      "outputs": [
        {
          "output_type": "execute_result",
          "data": {
            "text/plain": [
              "<PIL.Image.Image image mode=RGB size=500x400 at 0x7F6FFC264610>"
            ],
            "image/png": "[encoded data removed]"
          },
          "metadata": {},
          "execution_count": 37
        }
      ],
      "source": [
        "img=image.load_img('/content/drive/MyDrive/Naalaiya Thiran/Dataset/test_set/A/10.png',target_size=(400,500))\n",
        "img\n"
      ]
    },
    {
      "cell_type": "code",
      "source": [
        "from skimage.transform import resize\n",
        "def detect(frame):\n",
        "    img=image.img_to_array(frame)\n",
        "    img = resize(img,(64,64,3))\n",
        "    img = np.expand_dims(img,axis=0)\n",
        "    pred=np.argmax(model.predict(img))\n",
        "    op=['A','B','C','D','E','F','G','H','I']\n",
        "    print(\"THE PREDICTED LETTER IS \",op[pred])"
      ],
      "metadata": {
        "id": "PdH77hHxfBf2"
      },
      "execution_count": 46,
      "outputs": []
    },
    {
      "cell_type": "code",
      "source": [
        "img=image.load_img(\"/content/drive/MyDrive/Naalaiya Thiran/Dataset/test_set/A/10.png\")\n",
        "detect(img)"
      ],
      "metadata": {
        "colab": {
          "base_uri": "https://localhost:8080/"
        },
        "id": "cPwEMvqRfLBF",
        "outputId": "398ed950-f3d4-46c8-aa65-5050adaa3526"
      },
      "execution_count": 47,
      "outputs": [
        {
          "output_type": "stream",
          "name": "stdout",
          "text": [
            "1/1 [==============================] - 0s 100ms/step\n",
            "THE PREDICTED LETTER IS  A\n"
          ]
        }
      ]
    },
    {
      "cell_type": "code",
      "source": [
        "img = image.load_img('/content/drive/MyDrive/Naalaiya Thiran/Dataset/test_set/B/109.png')\n",
        "pred=detect(img)"
      ],
      "metadata": {
        "colab": {
          "base_uri": "https://localhost:8080/"
        },
        "id": "K0y_c7-yfmYU",
        "outputId": "3773df05-f7e3-4839-8d55-4c65ad9b99df"
      },
      "execution_count": 49,
      "outputs": [
        {
          "output_type": "stream",
          "name": "stdout",
          "text": [
            "1/1 [==============================] - 0s 34ms/step\n",
            "THE PREDICTED LETTER IS  B\n"
          ]
        }
      ]
    },
    {
      "cell_type": "code",
      "source": [
        "img = image.load_img('/content/drive/MyDrive/Naalaiya Thiran/Dataset/test_set/D/110.png')\n",
        "pred=detect(img)"
      ],
      "metadata": {
        "colab": {
          "base_uri": "https://localhost:8080/"
        },
        "id": "dsPe2glkf8RC",
        "outputId": "2dc69933-7f8b-4902-cc07-f87f1d550004"
      },
      "execution_count": 50,
      "outputs": [
        {
          "output_type": "stream",
          "name": "stdout",
          "text": [
            "1/1 [==============================] - 0s 30ms/step\n",
            "THE PREDICTED LETTER IS  D\n"
          ]
        }
      ]
    }
  ],
  "metadata": {
    "colab": {
      "provenance": []
    },
    "kernelspec": {
      "display_name": "Python 3",
      "name": "python3"
    },
    "language_info": {
      "name": "python"
    }
  },
  "nbformat": 4,
  "nbformat_minor": 0
}